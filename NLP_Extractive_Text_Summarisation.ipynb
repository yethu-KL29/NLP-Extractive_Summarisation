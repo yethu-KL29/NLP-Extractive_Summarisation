{
  "nbformat": 4,
  "nbformat_minor": 0,
  "metadata": {
    "colab": {
      "provenance": [],
      "gpuType": "T4",
      "authorship_tag": "ABX9TyMOZemKp54D+1bKwq1RiHmh",
      "include_colab_link": true
    },
    "kernelspec": {
      "name": "python3",
      "display_name": "Python 3"
    },
    "language_info": {
      "name": "python"
    },
    "accelerator": "GPU"
  },
  "cells": [
    {
      "cell_type": "markdown",
      "metadata": {
        "id": "view-in-github",
        "colab_type": "text"
      },
      "source": [
        "<a href=\"https://colab.research.google.com/github/yethu-KL29/NLP-Extractive_Summarisation/blob/main/NLP_Extractive_Text_Summarisation.ipynb\" target=\"_parent\"><img src=\"https://colab.research.google.com/assets/colab-badge.svg\" alt=\"Open In Colab\"/></a>"
      ]
    },
    {
      "cell_type": "code",
      "execution_count": 1,
      "metadata": {
        "colab": {
          "base_uri": "https://localhost:8080/"
        },
        "id": "iIdHNgN4WfdM",
        "outputId": "0a0f4915-b5a9-4afc-87c6-61bbe53ac1a9"
      },
      "outputs": [
        {
          "output_type": "stream",
          "name": "stderr",
          "text": [
            "[nltk_data] Downloading package punkt to /root/nltk_data...\n",
            "[nltk_data]   Unzipping tokenizers/punkt.zip.\n"
          ]
        }
      ],
      "source": [
        "import numpy as np\n",
        "import pandas as pd\n",
        "import nltk\n",
        "nltk.download('punkt') # one time execution\n",
        "import re"
      ]
    },
    {
      "cell_type": "code",
      "source": [
        "df = pd.read_csv(\"/content/tennis_articles.csv\" , encoding='iso-8859-1')\n"
      ],
      "metadata": {
        "id": "iuT_ogYrZs9w"
      },
      "execution_count": 2,
      "outputs": []
    },
    {
      "cell_type": "code",
      "source": [
        "df.head()"
      ],
      "metadata": {
        "colab": {
          "base_uri": "https://localhost:8080/",
          "height": 275
        },
        "id": "ajqpcYjFdoA2",
        "outputId": "b1e97567-5ada-4706-d5b5-bf9d4833193f"
      },
      "execution_count": 3,
      "outputs": [
        {
          "output_type": "execute_result",
          "data": {
            "text/plain": [
              "   article_id                                      article_title  \\\n",
              "0           1  I do not have friends in tennis, says Maria Sh...   \n",
              "1           2  Federer defeats Medvedev to advance to 14th Sw...   \n",
              "2           3  Tennis: Roger Federer ignored deadline set by ...   \n",
              "3           4  Nishikori to face off against Anderson in Vien...   \n",
              "4           5  Roger Federer has made this huge change to ten...   \n",
              "\n",
              "                                        article_text  \\\n",
              "0  Maria Sharapova has basically no friends as te...   \n",
              "1  BASEL, Switzerland (AP)  Roger Federer advanc...   \n",
              "2  Roger Federer has revealed that organisers of ...   \n",
              "3  Kei Nishikori will try to end his long losing ...   \n",
              "4  Federer, 37, first broke through on tour over ...   \n",
              "\n",
              "                                              source  \n",
              "0  https://www.tennisworldusa.org/tennis/news/Mar...  \n",
              "1  http://www.tennis.com/pro-game/2018/10/copil-s...  \n",
              "2  https://scroll.in/field/899938/tennis-roger-fe...  \n",
              "3  http://www.tennis.com/pro-game/2018/10/nishiko...  \n",
              "4  https://www.express.co.uk/sport/tennis/1036101...  "
            ],
            "text/html": [
              "\n",
              "  <div id=\"df-264782e3-bfc8-4a48-8a6f-7252881f013b\" class=\"colab-df-container\">\n",
              "    <div>\n",
              "<style scoped>\n",
              "    .dataframe tbody tr th:only-of-type {\n",
              "        vertical-align: middle;\n",
              "    }\n",
              "\n",
              "    .dataframe tbody tr th {\n",
              "        vertical-align: top;\n",
              "    }\n",
              "\n",
              "    .dataframe thead th {\n",
              "        text-align: right;\n",
              "    }\n",
              "</style>\n",
              "<table border=\"1\" class=\"dataframe\">\n",
              "  <thead>\n",
              "    <tr style=\"text-align: right;\">\n",
              "      <th></th>\n",
              "      <th>article_id</th>\n",
              "      <th>article_title</th>\n",
              "      <th>article_text</th>\n",
              "      <th>source</th>\n",
              "    </tr>\n",
              "  </thead>\n",
              "  <tbody>\n",
              "    <tr>\n",
              "      <th>0</th>\n",
              "      <td>1</td>\n",
              "      <td>I do not have friends in tennis, says Maria Sh...</td>\n",
              "      <td>Maria Sharapova has basically no friends as te...</td>\n",
              "      <td>https://www.tennisworldusa.org/tennis/news/Mar...</td>\n",
              "    </tr>\n",
              "    <tr>\n",
              "      <th>1</th>\n",
              "      <td>2</td>\n",
              "      <td>Federer defeats Medvedev to advance to 14th Sw...</td>\n",
              "      <td>BASEL, Switzerland (AP)  Roger Federer advanc...</td>\n",
              "      <td>http://www.tennis.com/pro-game/2018/10/copil-s...</td>\n",
              "    </tr>\n",
              "    <tr>\n",
              "      <th>2</th>\n",
              "      <td>3</td>\n",
              "      <td>Tennis: Roger Federer ignored deadline set by ...</td>\n",
              "      <td>Roger Federer has revealed that organisers of ...</td>\n",
              "      <td>https://scroll.in/field/899938/tennis-roger-fe...</td>\n",
              "    </tr>\n",
              "    <tr>\n",
              "      <th>3</th>\n",
              "      <td>4</td>\n",
              "      <td>Nishikori to face off against Anderson in Vien...</td>\n",
              "      <td>Kei Nishikori will try to end his long losing ...</td>\n",
              "      <td>http://www.tennis.com/pro-game/2018/10/nishiko...</td>\n",
              "    </tr>\n",
              "    <tr>\n",
              "      <th>4</th>\n",
              "      <td>5</td>\n",
              "      <td>Roger Federer has made this huge change to ten...</td>\n",
              "      <td>Federer, 37, first broke through on tour over ...</td>\n",
              "      <td>https://www.express.co.uk/sport/tennis/1036101...</td>\n",
              "    </tr>\n",
              "  </tbody>\n",
              "</table>\n",
              "</div>\n",
              "    <div class=\"colab-df-buttons\">\n",
              "\n",
              "  <div class=\"colab-df-container\">\n",
              "    <button class=\"colab-df-convert\" onclick=\"convertToInteractive('df-264782e3-bfc8-4a48-8a6f-7252881f013b')\"\n",
              "            title=\"Convert this dataframe to an interactive table.\"\n",
              "            style=\"display:none;\">\n",
              "\n",
              "  <svg xmlns=\"http://www.w3.org/2000/svg\" height=\"24px\" viewBox=\"0 -960 960 960\">\n",
              "    <path d=\"M120-120v-720h720v720H120Zm60-500h600v-160H180v160Zm220 220h160v-160H400v160Zm0 220h160v-160H400v160ZM180-400h160v-160H180v160Zm440 0h160v-160H620v160ZM180-180h160v-160H180v160Zm440 0h160v-160H620v160Z\"/>\n",
              "  </svg>\n",
              "    </button>\n",
              "\n",
              "  <style>\n",
              "    .colab-df-container {\n",
              "      display:flex;\n",
              "      gap: 12px;\n",
              "    }\n",
              "\n",
              "    .colab-df-convert {\n",
              "      background-color: #E8F0FE;\n",
              "      border: none;\n",
              "      border-radius: 50%;\n",
              "      cursor: pointer;\n",
              "      display: none;\n",
              "      fill: #1967D2;\n",
              "      height: 32px;\n",
              "      padding: 0 0 0 0;\n",
              "      width: 32px;\n",
              "    }\n",
              "\n",
              "    .colab-df-convert:hover {\n",
              "      background-color: #E2EBFA;\n",
              "      box-shadow: 0px 1px 2px rgba(60, 64, 67, 0.3), 0px 1px 3px 1px rgba(60, 64, 67, 0.15);\n",
              "      fill: #174EA6;\n",
              "    }\n",
              "\n",
              "    .colab-df-buttons div {\n",
              "      margin-bottom: 4px;\n",
              "    }\n",
              "\n",
              "    [theme=dark] .colab-df-convert {\n",
              "      background-color: #3B4455;\n",
              "      fill: #D2E3FC;\n",
              "    }\n",
              "\n",
              "    [theme=dark] .colab-df-convert:hover {\n",
              "      background-color: #434B5C;\n",
              "      box-shadow: 0px 1px 3px 1px rgba(0, 0, 0, 0.15);\n",
              "      filter: drop-shadow(0px 1px 2px rgba(0, 0, 0, 0.3));\n",
              "      fill: #FFFFFF;\n",
              "    }\n",
              "  </style>\n",
              "\n",
              "    <script>\n",
              "      const buttonEl =\n",
              "        document.querySelector('#df-264782e3-bfc8-4a48-8a6f-7252881f013b button.colab-df-convert');\n",
              "      buttonEl.style.display =\n",
              "        google.colab.kernel.accessAllowed ? 'block' : 'none';\n",
              "\n",
              "      async function convertToInteractive(key) {\n",
              "        const element = document.querySelector('#df-264782e3-bfc8-4a48-8a6f-7252881f013b');\n",
              "        const dataTable =\n",
              "          await google.colab.kernel.invokeFunction('convertToInteractive',\n",
              "                                                    [key], {});\n",
              "        if (!dataTable) return;\n",
              "\n",
              "        const docLinkHtml = 'Like what you see? Visit the ' +\n",
              "          '<a target=\"_blank\" href=https://colab.research.google.com/notebooks/data_table.ipynb>data table notebook</a>'\n",
              "          + ' to learn more about interactive tables.';\n",
              "        element.innerHTML = '';\n",
              "        dataTable['output_type'] = 'display_data';\n",
              "        await google.colab.output.renderOutput(dataTable, element);\n",
              "        const docLink = document.createElement('div');\n",
              "        docLink.innerHTML = docLinkHtml;\n",
              "        element.appendChild(docLink);\n",
              "      }\n",
              "    </script>\n",
              "  </div>\n",
              "\n",
              "\n",
              "<div id=\"df-b4287856-b751-4ae8-a5b4-5eb16f99967a\">\n",
              "  <button class=\"colab-df-quickchart\" onclick=\"quickchart('df-b4287856-b751-4ae8-a5b4-5eb16f99967a')\"\n",
              "            title=\"Suggest charts\"\n",
              "            style=\"display:none;\">\n",
              "\n",
              "<svg xmlns=\"http://www.w3.org/2000/svg\" height=\"24px\"viewBox=\"0 0 24 24\"\n",
              "     width=\"24px\">\n",
              "    <g>\n",
              "        <path d=\"M19 3H5c-1.1 0-2 .9-2 2v14c0 1.1.9 2 2 2h14c1.1 0 2-.9 2-2V5c0-1.1-.9-2-2-2zM9 17H7v-7h2v7zm4 0h-2V7h2v10zm4 0h-2v-4h2v4z\"/>\n",
              "    </g>\n",
              "</svg>\n",
              "  </button>\n",
              "\n",
              "<style>\n",
              "  .colab-df-quickchart {\n",
              "      --bg-color: #E8F0FE;\n",
              "      --fill-color: #1967D2;\n",
              "      --hover-bg-color: #E2EBFA;\n",
              "      --hover-fill-color: #174EA6;\n",
              "      --disabled-fill-color: #AAA;\n",
              "      --disabled-bg-color: #DDD;\n",
              "  }\n",
              "\n",
              "  [theme=dark] .colab-df-quickchart {\n",
              "      --bg-color: #3B4455;\n",
              "      --fill-color: #D2E3FC;\n",
              "      --hover-bg-color: #434B5C;\n",
              "      --hover-fill-color: #FFFFFF;\n",
              "      --disabled-bg-color: #3B4455;\n",
              "      --disabled-fill-color: #666;\n",
              "  }\n",
              "\n",
              "  .colab-df-quickchart {\n",
              "    background-color: var(--bg-color);\n",
              "    border: none;\n",
              "    border-radius: 50%;\n",
              "    cursor: pointer;\n",
              "    display: none;\n",
              "    fill: var(--fill-color);\n",
              "    height: 32px;\n",
              "    padding: 0;\n",
              "    width: 32px;\n",
              "  }\n",
              "\n",
              "  .colab-df-quickchart:hover {\n",
              "    background-color: var(--hover-bg-color);\n",
              "    box-shadow: 0 1px 2px rgba(60, 64, 67, 0.3), 0 1px 3px 1px rgba(60, 64, 67, 0.15);\n",
              "    fill: var(--button-hover-fill-color);\n",
              "  }\n",
              "\n",
              "  .colab-df-quickchart-complete:disabled,\n",
              "  .colab-df-quickchart-complete:disabled:hover {\n",
              "    background-color: var(--disabled-bg-color);\n",
              "    fill: var(--disabled-fill-color);\n",
              "    box-shadow: none;\n",
              "  }\n",
              "\n",
              "  .colab-df-spinner {\n",
              "    border: 2px solid var(--fill-color);\n",
              "    border-color: transparent;\n",
              "    border-bottom-color: var(--fill-color);\n",
              "    animation:\n",
              "      spin 1s steps(1) infinite;\n",
              "  }\n",
              "\n",
              "  @keyframes spin {\n",
              "    0% {\n",
              "      border-color: transparent;\n",
              "      border-bottom-color: var(--fill-color);\n",
              "      border-left-color: var(--fill-color);\n",
              "    }\n",
              "    20% {\n",
              "      border-color: transparent;\n",
              "      border-left-color: var(--fill-color);\n",
              "      border-top-color: var(--fill-color);\n",
              "    }\n",
              "    30% {\n",
              "      border-color: transparent;\n",
              "      border-left-color: var(--fill-color);\n",
              "      border-top-color: var(--fill-color);\n",
              "      border-right-color: var(--fill-color);\n",
              "    }\n",
              "    40% {\n",
              "      border-color: transparent;\n",
              "      border-right-color: var(--fill-color);\n",
              "      border-top-color: var(--fill-color);\n",
              "    }\n",
              "    60% {\n",
              "      border-color: transparent;\n",
              "      border-right-color: var(--fill-color);\n",
              "    }\n",
              "    80% {\n",
              "      border-color: transparent;\n",
              "      border-right-color: var(--fill-color);\n",
              "      border-bottom-color: var(--fill-color);\n",
              "    }\n",
              "    90% {\n",
              "      border-color: transparent;\n",
              "      border-bottom-color: var(--fill-color);\n",
              "    }\n",
              "  }\n",
              "</style>\n",
              "\n",
              "  <script>\n",
              "    async function quickchart(key) {\n",
              "      const quickchartButtonEl =\n",
              "        document.querySelector('#' + key + ' button');\n",
              "      quickchartButtonEl.disabled = true;  // To prevent multiple clicks.\n",
              "      quickchartButtonEl.classList.add('colab-df-spinner');\n",
              "      try {\n",
              "        const charts = await google.colab.kernel.invokeFunction(\n",
              "            'suggestCharts', [key], {});\n",
              "      } catch (error) {\n",
              "        console.error('Error during call to suggestCharts:', error);\n",
              "      }\n",
              "      quickchartButtonEl.classList.remove('colab-df-spinner');\n",
              "      quickchartButtonEl.classList.add('colab-df-quickchart-complete');\n",
              "    }\n",
              "    (() => {\n",
              "      let quickchartButtonEl =\n",
              "        document.querySelector('#df-b4287856-b751-4ae8-a5b4-5eb16f99967a button');\n",
              "      quickchartButtonEl.style.display =\n",
              "        google.colab.kernel.accessAllowed ? 'block' : 'none';\n",
              "    })();\n",
              "  </script>\n",
              "</div>\n",
              "\n",
              "    </div>\n",
              "  </div>\n"
            ],
            "application/vnd.google.colaboratory.intrinsic+json": {
              "type": "dataframe",
              "variable_name": "df",
              "summary": "{\n  \"name\": \"df\",\n  \"rows\": 8,\n  \"fields\": [\n    {\n      \"column\": \"article_id\",\n      \"properties\": {\n        \"dtype\": \"number\",\n        \"std\": 2,\n        \"min\": 1,\n        \"max\": 8,\n        \"num_unique_values\": 8,\n        \"samples\": [\n          2,\n          6,\n          1\n        ],\n        \"semantic_type\": \"\",\n        \"description\": \"\"\n      }\n    },\n    {\n      \"column\": \"article_title\",\n      \"properties\": {\n        \"dtype\": \"string\",\n        \"num_unique_values\": 8,\n        \"samples\": [\n          \"Federer defeats Medvedev to advance to 14th Swiss Indoors final\",\n          \"Rafael Nadal: World No 1 ARRIVES for Paris Masters - WATCH\",\n          \"I do not have friends in\\u00a0tennis, says Maria Sharapova\"\n        ],\n        \"semantic_type\": \"\",\n        \"description\": \"\"\n      }\n    },\n    {\n      \"column\": \"article_text\",\n      \"properties\": {\n        \"dtype\": \"string\",\n        \"num_unique_values\": 8,\n        \"samples\": [\n          \"BASEL, Switzerland (AP) \\u0097 Roger Federer advanced to the 14th Swiss Indoors final of his career by beating seventh-seeded Daniil Medvedev 6-1, 6-4 on Saturday. Seeking a ninth title at his hometown event, and a 99th overall, Federer will play 93th-ranked Marius Copil on Sunday. Federer dominated the 20th-ranked Medvedev and had his first match-point chance to break serve again at 5-1. He then dropped his serve to love, and let another match point slip in Medvedev's next service game by netting a backhand. He clinched on his fourth chance when Medvedev netted from the baseline. Copil upset expectations of a Federer final against Alexander Zverev in a 6-3, 6-7 (6), 6-4 win over the fifth-ranked German in the earlier semifinal. The Romanian aims for a first title after arriving at Basel without a career win over a top-10 opponent. Copil has two after also beating No. 6 Marin Cilic in the second round. Copil fired 26 aces past Zverev and never dropped serve, clinching after 2 1/2 hours with a forehand volley winner to break Zverev for the second time in the semifinal. He came through two rounds of qualifying last weekend to reach the Basel main draw, including beating Zverev's older brother, Mischa. Federer had an easier time than in his only previous match against Medvedev, a three-setter at Shanghai two weeks ago.\",\n          \"Nadal has not played tennis since he was forced to retire from the US Open semi-finals against Juan Martin Del Porto with a knee injury. The world No 1 has been forced to miss Spain\\u0092s Davis Cup clash with France and the Asian hard court season. But with the ATP World Tour Finals due to begin next month, Nadal is ready to prove his fitness before the season-ending event at the 02 Arena. Nadal flew to Paris on Friday and footage from the Paris Masters official Twitter account shows the Spaniard smiling as he strides onto court for practice. The Paris Masters draw has been made and Nadal will start his campaign on Tuesday or Wednesday against either Fernando Verdasco or Jeremy Chardy. Nadal could then play defending champion Jack Sock in the third round before a potential quarter-final with either Borna Coric or Dominic Thiem. Nadal\\u0092s appearance in Paris is a big boost to the tournament organisers who could see Roger Federer withdraw. Federer is in action at the Swiss Indoors in Basel and if he reaches the final, he could pull out of Paris in a bid to stay fresh for London. But as it stands, Federer is in the draw and is scheduled to face either former world No 3 Milos Raonic or Jo-Wilfried Tsonga in the second round. Federer\\u0092s projected route to the Paris final could also lead to matches against Kevin Anderson and Novak Djokovic. Djokovic could play Marco Cecchinato in the second round. British No 1 Kyle Edmund is the 12th seed in Paris and will get underway in round two against either Karen Khachanov or Filip Krajinovic.\",\n          \"Maria Sharapova has basically no friends as tennis players on the WTA Tour. The Russian player has no problems in openly speaking about it and in a recent interview she said: 'I don't really hide any feelings too much. I think everyone knows this is my job here. When I'm on the courts or when I'm on the court playing, I'm a competitor and I want to beat every single person whether they're in the locker room or across the net. So I'm not the one to strike up a conversation about the weather and know that in the next few minutes I have to go and try to win a tennis match. I'm a pretty competitive girl. I say my hellos, but I'm not sending any players flowers as well. Uhm, I'm not really friendly or close to many players. I have not a lot of friends away from the courts.' When she said she is not really close to a lot of players, is that something strategic that she is doing? Is it different on the men's tour than the women's tour? 'No, not at all. I think just because you're in the same sport doesn't mean that you have to be friends with everyone just because you're categorized, you're a tennis player, so you're going to get along with tennis players. I think every person has different interests. I have friends that have completely different jobs and interests, and I've met them in very different parts of my life. I think everyone just thinks because we're tennis players we should be the greatest of friends. But ultimately tennis is just a very small part of what we do. There are so many other things that we're interested in, that we do.' ALSO READ: Maria Sharapova reveals how tennis keeps her motivated.\"\n        ],\n        \"semantic_type\": \"\",\n        \"description\": \"\"\n      }\n    },\n    {\n      \"column\": \"source\",\n      \"properties\": {\n        \"dtype\": \"string\",\n        \"num_unique_values\": 8,\n        \"samples\": [\n          \"http://www.tennis.com/pro-game/2018/10/copil-stuns-5th-ranked-zverev-to-reach-swiss-indoors-final/77721/\",\n          \"https://www.express.co.uk/sport/tennis/1037119/Rafael-Nadal-World-No-1-Paris-Masters-Federer-Djokovic\",\n          \"https://www.tennisworldusa.org/tennis/news/Maria_Sharapova/62220/i-do-not-have-friends-in-tennis-says-maria-sharapova/\"\n        ],\n        \"semantic_type\": \"\",\n        \"description\": \"\"\n      }\n    }\n  ]\n}"
            }
          },
          "metadata": {},
          "execution_count": 3
        }
      ]
    },
    {
      "cell_type": "code",
      "source": [
        "df['article_text'][0]\n"
      ],
      "metadata": {
        "colab": {
          "base_uri": "https://localhost:8080/",
          "height": 140
        },
        "id": "Fj4hrgGTdtzA",
        "outputId": "272ce71e-557c-4658-9351-3ecbdc044fc1"
      },
      "execution_count": 4,
      "outputs": [
        {
          "output_type": "execute_result",
          "data": {
            "text/plain": [
              "\"Maria Sharapova has basically no friends as tennis players on the WTA Tour. The Russian player has no problems in openly speaking about it and in a recent interview she said: 'I don't really hide any feelings too much. I think everyone knows this is my job here. When I'm on the courts or when I'm on the court playing, I'm a competitor and I want to beat every single person whether they're in the locker room or across the net. So I'm not the one to strike up a conversation about the weather and know that in the next few minutes I have to go and try to win a tennis match. I'm a pretty competitive girl. I say my hellos, but I'm not sending any players flowers as well. Uhm, I'm not really friendly or close to many players. I have not a lot of friends away from the courts.' When she said she is not really close to a lot of players, is that something strategic that she is doing? Is it different on the men's tour than the women's tour? 'No, not at all. I think just because you're in the same sport doesn't mean that you have to be friends with everyone just because you're categorized, you're a tennis player, so you're going to get along with tennis players. I think every person has different interests. I have friends that have completely different jobs and interests, and I've met them in very different parts of my life. I think everyone just thinks because we're tennis players we should be the greatest of friends. But ultimately tennis is just a very small part of what we do. There are so many other things that we're interested in, that we do.' ALSO READ: Maria Sharapova reveals how tennis keeps her motivated.\""
            ],
            "application/vnd.google.colaboratory.intrinsic+json": {
              "type": "string"
            }
          },
          "metadata": {},
          "execution_count": 4
        }
      ]
    },
    {
      "cell_type": "code",
      "source": [
        "from nltk.tokenize import sent_tokenize\n",
        "# Download the punkt package if you haven't already\n",
        "nltk.download('punkt_tab')"
      ],
      "metadata": {
        "colab": {
          "base_uri": "https://localhost:8080/"
        },
        "id": "gR1lpaBzdvfV",
        "outputId": "046c7de2-a875-485d-b833-b0711a7bb3b4"
      },
      "execution_count": 5,
      "outputs": [
        {
          "output_type": "stream",
          "name": "stderr",
          "text": [
            "[nltk_data] Downloading package punkt_tab to /root/nltk_data...\n",
            "[nltk_data]   Unzipping tokenizers/punkt_tab.zip.\n"
          ]
        },
        {
          "output_type": "execute_result",
          "data": {
            "text/plain": [
              "True"
            ]
          },
          "metadata": {},
          "execution_count": 5
        }
      ]
    },
    {
      "cell_type": "code",
      "source": [
        "sent_tokenize(df['article_text'][0])"
      ],
      "metadata": {
        "colab": {
          "base_uri": "https://localhost:8080/"
        },
        "id": "vPDOEgrIhV52",
        "outputId": "d11533ae-9322-486c-c424-c730b576e296"
      },
      "execution_count": 6,
      "outputs": [
        {
          "output_type": "execute_result",
          "data": {
            "text/plain": [
              "['Maria Sharapova has basically no friends as tennis players on the WTA Tour.',\n",
              " \"The Russian player has no problems in openly speaking about it and in a recent interview she said: 'I don't really hide any feelings too much.\",\n",
              " 'I think everyone knows this is my job here.',\n",
              " \"When I'm on the courts or when I'm on the court playing, I'm a competitor and I want to beat every single person whether they're in the locker room or across the net.\",\n",
              " \"So I'm not the one to strike up a conversation about the weather and know that in the next few minutes I have to go and try to win a tennis match.\",\n",
              " \"I'm a pretty competitive girl.\",\n",
              " \"I say my hellos, but I'm not sending any players flowers as well.\",\n",
              " \"Uhm, I'm not really friendly or close to many players.\",\n",
              " \"I have not a lot of friends away from the courts.'\",\n",
              " 'When she said she is not really close to a lot of players, is that something strategic that she is doing?',\n",
              " \"Is it different on the men's tour than the women's tour?\",\n",
              " \"'No, not at all.\",\n",
              " \"I think just because you're in the same sport doesn't mean that you have to be friends with everyone just because you're categorized, you're a tennis player, so you're going to get along with tennis players.\",\n",
              " 'I think every person has different interests.',\n",
              " \"I have friends that have completely different jobs and interests, and I've met them in very different parts of my life.\",\n",
              " \"I think everyone just thinks because we're tennis players we should be the greatest of friends.\",\n",
              " 'But ultimately tennis is just a very small part of what we do.',\n",
              " \"There are so many other things that we're interested in, that we do.'\",\n",
              " 'ALSO READ: Maria Sharapova reveals how tennis keeps her motivated.']"
            ]
          },
          "metadata": {},
          "execution_count": 6
        }
      ]
    },
    {
      "cell_type": "code",
      "source": [
        "sentences = []\n",
        "for s in df['article_text']:\n",
        "  sentences.append(sent_tokenize(s))"
      ],
      "metadata": {
        "id": "hYhMWo4XeSqn"
      },
      "execution_count": 7,
      "outputs": []
    },
    {
      "cell_type": "code",
      "source": [
        "sentences = [y for x in sentences for y in x]\n"
      ],
      "metadata": {
        "id": "v4CMDzlGe8mN"
      },
      "execution_count": 8,
      "outputs": []
    },
    {
      "cell_type": "code",
      "source": [
        "print(sentences)"
      ],
      "metadata": {
        "colab": {
          "base_uri": "https://localhost:8080/"
        },
        "id": "YI-GKpvylabs",
        "outputId": "06d41db3-ded1-48fc-d1b3-d39582a98992"
      },
      "execution_count": 9,
      "outputs": [
        {
          "output_type": "stream",
          "name": "stdout",
          "text": [
            "['Maria Sharapova has basically no friends as tennis players on the WTA Tour.', \"The Russian player has no problems in openly speaking about it and in a recent interview she said: 'I don't really hide any feelings too much.\", 'I think everyone knows this is my job here.', \"When I'm on the courts or when I'm on the court playing, I'm a competitor and I want to beat every single person whether they're in the locker room or across the net.\", \"So I'm not the one to strike up a conversation about the weather and know that in the next few minutes I have to go and try to win a tennis match.\", \"I'm a pretty competitive girl.\", \"I say my hellos, but I'm not sending any players flowers as well.\", \"Uhm, I'm not really friendly or close to many players.\", \"I have not a lot of friends away from the courts.'\", 'When she said she is not really close to a lot of players, is that something strategic that she is doing?', \"Is it different on the men's tour than the women's tour?\", \"'No, not at all.\", \"I think just because you're in the same sport doesn't mean that you have to be friends with everyone just because you're categorized, you're a tennis player, so you're going to get along with tennis players.\", 'I think every person has different interests.', \"I have friends that have completely different jobs and interests, and I've met them in very different parts of my life.\", \"I think everyone just thinks because we're tennis players we should be the greatest of friends.\", 'But ultimately tennis is just a very small part of what we do.', \"There are so many other things that we're interested in, that we do.'\", 'ALSO READ: Maria Sharapova reveals how tennis keeps her motivated.', 'BASEL, Switzerland (AP) \\x97 Roger Federer advanced to the 14th Swiss Indoors final of his career by beating seventh-seeded Daniil Medvedev 6-1, 6-4 on Saturday.', 'Seeking a ninth title at his hometown event, and a 99th overall, Federer will play 93th-ranked Marius Copil on Sunday.', 'Federer dominated the 20th-ranked Medvedev and had his first match-point chance to break serve again at 5-1.', \"He then dropped his serve to love, and let another match point slip in Medvedev's next service game by netting a backhand.\", 'He clinched on his fourth chance when Medvedev netted from the baseline.', 'Copil upset expectations of a Federer final against Alexander Zverev in a 6-3, 6-7 (6), 6-4 win over the fifth-ranked German in the earlier semifinal.', 'The Romanian aims for a first title after arriving at Basel without a career win over a top-10 opponent.', 'Copil has two after also beating No.', '6 Marin Cilic in the second round.', 'Copil fired 26 aces past Zverev and never dropped serve, clinching after 2 1/2 hours with a forehand volley winner to break Zverev for the second time in the semifinal.', \"He came through two rounds of qualifying last weekend to reach the Basel main draw, including beating Zverev's older brother, Mischa.\", 'Federer had an easier time than in his only previous match against Medvedev, a three-setter at Shanghai two weeks ago.', 'Roger Federer has revealed that organisers of the re-launched and condensed Davis Cup gave him three days to decide if he would commit to the controversial competition.', 'Speaking at the Swiss Indoors tournament where he will play in Sunday\\x92s final against Romanian qualifier Marius Copil, the world number three said that given the impossibly short time frame to make a decision, he opted out of any commitment.', '\\x93They only left me three days to decide,\\x94 Federer said.', '\\x93I didn\\x92t to have time to consult with all the people I had to consult.', '\\x93I could not make a decision in that time, so I told them to do what they wanted.\\x94 The 20-time Grand Slam champion has voiced doubts about the wisdom of the one-week format to be introduced by organisers Kosmos, who have promised the International Tennis Federation up to $3 billion in prize money over the next quarter-century.', 'The competition is set to feature 18 countries in the November 18-24 finals in Madrid next year, and will replace the classic home-and-away ties played four times per year for decades.', 'Kosmos is headed by Barcelona footballer Gerard Pique, who is hoping fellow Spaniard Rafael Nadal will play in the upcoming event.', 'Novak Djokovic has said he will give precedence to the ATP\\x92s intended re-launch of the defunct World Team Cup in January 2020, at various Australian venues.', 'Major players feel that a big event in late November combined with one in January before the Australian Open will mean too much tennis and too little rest.', 'Federer said earlier this month in Shanghai in that his chances of playing the Davis Cup were all but non-existent.', '\\x93I highly doubt it, of course.', 'We\\x92ll see what happens,\\x94 he said.', '\\x93I don\\x92t think this was designed for me, anyhow.', 'This was designed for the future generation of players.\\x94 Argentina and Britain received wild cards to the new-look event, and will compete along with the four 2018 semi-finalists and the 12 teams who win qualifying rounds next February.', '\\x93I don\\x92t like being under that kind of pressure,\\x94 Federer said of the deadline Kosmos handed him.', 'Kei Nishikori will try to end his long losing streak in ATP finals and Kevin Anderson will go for his second title of the year at the Erste Bank Open on Sunday.', 'The fifth-seeded Nishikori reached his third final of 2018 after beating Mikhail Kukushkin of Kazakhstan 6-4, 6-3 in the semifinals.', \"A winner of 11 ATP events, Nishikori hasn't triumphed since winning in Memphis in February 2016.\", 'He has lost eight straight finals since.', 'The second-seeded Anderson defeated Fernando Verdasco 6-3, 3-6, 6-4.', 'Anderson has a shot at a fifth career title and second of the year after winning in New York in February.', 'Nishikori leads Anderson 4-2 on career matchups, but the South African won their only previous meeting this year.', 'With a victory on Sunday, Anderson will qualify for the ATP Finals.', 'Currently in ninth place, Nishikori with a win could move to within 125 points of the cut for the eight-man event in London next month.', 'Nishikori held serve throughout against Kukushkin, who came through qualifying.', 'He used his first break point to close out the first set before going up 3-0 in the second and wrapping up the win on his first match point.', 'Against Verdasco, Anderson hit nine of his 19 aces in the opening set.', \"The Spaniard broke Anderson twice in the second but didn't get another chance on the South African's serve in the final set.\", 'Federer, 37, first broke through on tour over two decades ago and he has since gone on to enjoy a glittering career.', 'The 20-time Grand Slam winner is chasing his 99th ATP title at the Swiss Indoors this week and he faces Jan-Lennard Struff in the second round on Thursday (6pm BST).', 'Davenport enjoyed most of her success in the late 1990s and her third and final major tournament win came at the 2000 Australian Open.', 'But she claims the mentality of professional tennis players slowly began to change after the new millennium.', '\\x93It seems pretty friendly right now,\\x94 said Davenport.', '\\x93I think there is a really nice environment and a great atmosphere, especially between some of the veteran players helping some of the younger players out.', \"\\x93It's a very pleasant atmosphere, I'd have to say, around the locker rooms.\", '\\x93I felt like the best weeks that I had to get to know players when I was playing were the Fed Cup weeks or the Olympic weeks, not necessarily during the tournaments.', '\\x93And even though maybe we had smaller teams, I still think we kept to ourselves quite a bit.', '\\x93Not always, but I really feel like in the mid-2000 years there was a huge shift of the attitudes of the top players and being more friendly and being more giving, and a lot of that had to do with players like Roger coming up.', \"\\x93I just felt like it really kind of changed where people were a little bit, definitely in the '90s, a lot more quiet, into themselves, and then it started to become better.\\x94 Meanwhile, Federer is hoping he can improve his service game as he hunts his ninth Swiss Indoors title this week.\", \"\\x93I didn't serve very well [against first-round opponent Filip Kranjovic,\\x94 Federer said.\", '\\x93I think I was misfiring the corners, I was not hitting the lines enough.', \"\\x93Clearly you make your life more difficult, but still I was up 6-2, 3-1, break points, so things could have ended very quickly today, even though I didn't have the best serve percentage stats.\", \"\\x93But maybe that's exactly what caught up to me eventually.\", \"It's just getting used to it.\", 'This is where the first rounds can be tricky.\\x94', 'Nadal has not played tennis since he was forced to retire from the US Open semi-finals against Juan Martin Del Porto with a knee injury.', 'The world No 1 has been forced to miss Spain\\x92s Davis Cup clash with France and the Asian hard court season.', 'But with the ATP World Tour Finals due to begin next month, Nadal is ready to prove his fitness before the season-ending event at the 02 Arena.', 'Nadal flew to Paris on Friday and footage from the Paris Masters official Twitter account shows the Spaniard smiling as he strides onto court for practice.', 'The Paris Masters draw has been made and Nadal will start his campaign on Tuesday or Wednesday against either Fernando Verdasco or Jeremy Chardy.', 'Nadal could then play defending champion Jack Sock in the third round before a potential quarter-final with either Borna Coric or Dominic Thiem.', 'Nadal\\x92s appearance in Paris is a big boost to the tournament organisers who could see Roger Federer withdraw.', 'Federer is in action at the Swiss Indoors in Basel and if he reaches the final, he could pull out of Paris in a bid to stay fresh for London.', 'But as it stands, Federer is in the draw and is scheduled to face either former world No 3 Milos Raonic or Jo-Wilfried Tsonga in the second round.', 'Federer\\x92s projected route to the Paris final could also lead to matches against Kevin Anderson and Novak Djokovic.', 'Djokovic could play Marco Cecchinato in the second round.', 'British No 1 Kyle Edmund is the 12th seed in Paris and will get underway in round two against either Karen Khachanov or Filip Krajinovic.', 'Tennis giveth, and tennis taketh away.', 'The end of the season is finally in sight, and with so many players defending\\x97or losing\\x97huge chunks of points in Singapore, Zhuhai and London, podcast co-hosts Nina Pantic and Irina Falconi discuss the art of defending points (02:14).', \"It's no secret that Jack Sock has struggled on the singles court this year (his record is 7-19).\", 'He could lose 1,400 points in the next few weeks\\x97but instead of focusing on the negative, it can all be about perspective (06:28).', \"Let's also not forget his two Grand Slam doubles triumphs this season.\", 'Two players, Stefanos Tsitsipas and Kyle Edmund, won their first career ATP titles last week (13:26).', \"It's a big deal because...you never forget your first.\", 'Irina looks back at her WTA title win in Bogota in 2016, and tells an unforgettable story about her semifinal drama (14:04).', 'In Singapore, one of the biggest storylines (aside from the matches, of course) has been the on-court coaching debate.', 'Nina and Irina give their opinions on what coaching should look like in the future, on both tours (18:55).', 'I PLAYED golf last week with Todd Reid.', 'He picked me up at 5.30am, half an hour early because he couldn\\x92t sleep.', 'Or hadn\\x92t slept, to be specific.', 'Not because he\\x92d been out on a bender or anything \\x97 those days were in the past.', 'The former Wimbledon junior champion was full of hope, excited about getting his life back together after a troubled few years and a touch-and-go battle with pancreatitis.', '\\x93I\\x92m pleased with that,\\x94 he said after grinding out an eight-over-par front nine at the not-so-royal Northbridge club in Sydney and smashing down an egg- and-bacon roll at the halfway house.', 'To most players of his rare sporting gifts, such a modest return would be unacceptable.', 'To Reid the 15-marker, just being up and at \\x91em was enough; a few bogeys and one well-made par \\x97 broomstick putter and all \\x97 vindication for his recent decision to renew his membership at nearby Bankstown.', 'Exhausted after spending half his round deep in the bushes searching for my ball, as well as those of two other golfers he\\x92d never met before, our incredibly giving designated driver asked if we didn\\x92t mind going straight home after signing off so he could rest up a little before heading to work.', 'Fourteen years after sharing centre court with Roger Federer in the third round of the Australian Open, Reid was now running the counter and coaching kids - but sadly now never mine- in suburban Sydney at the Matraville tennis and squash centre run by his father Bob and beautiful mother Sandra, herselfa former professional.', 'Quite the fall from grace for a prodigious talent once afforded a 3000-word spread in The New York Times.', 'With sponsors and the world at his feet, Reid was 14 then and being mentored by Nick Bollettieri, who fashioned the likes of Andre Agassi, Maria Sharapova, Monica Seles and Jim Courier into world No.1s.', 'Reid, too, was earmarked for the very top, only for injuries and illness to cruel his career.', 'On the up again after taking salvation in the bottle, Reid was found dead on Tuesday aged just 34.', '\\x93I never got over what happened to me when I was 19,\\x94 he told AAP last week.', 'Just as his senior career got legs, Reid was derailed by a debilitating bout of glandular fever.', 'The life-changing setback hit only weeks after the then-teenage wonder boy announced his arrival as a grand slam threat by throwing up all over Rod Laver Arena during a fighting five-set second-round win over Sargis Sargsian.', 'The epic victory set-up his showdown with Federer, who would go on to win his first Australian Open.', '\\x93I was their golden boy then,\\x94 he said of his relationship with Tennis Australia.', '\\x93Now they won\\x92t even give me tickets (to the Open).\\x94 A Davis Cup pick and on the cusp of the world\\x92s 100 by 18, Reid had few other complaints - just a lingering sense of what might have been.', 'He\\x92d backed up his last-32 showingat Melbourne Park with a string of wins over elites including French Open champion and then world No.9 Gaston Gaudio and Roland Garros runner-up Martin Verkerk in 2004 before illness struck.', '\\x93I was on a nice trajectorythen,\\x94 Reid recalled.\\x93If I hadn\\x92t got sick, I think I could have started pushing towards the second week at the slams and then who knows.\\x94 Duringa comeback attempt some five years later, Reid added Bernard Tomic and 2018 US Open Federer slayer John Millman to his list of career scalps.', '\\x93He had one of the best backhands, I think, going around,\\x94 Millman told AAP.', '\\x93But my fondest memory is probably him coming back in Spain with his father and Todd trying to order a ham, cheese and tomato sandwich in the most Aussie English I ever heard.\\x94 Among his lesser known achievements - but even more significantto me - was an injured Reid\\x92s effort to reach the final of the Manly Seaside, a prestigious Christmas-time event won backin the day by the likes of legends Rod Laver, Ken Rosewall, Frank Sedgman, John Bromwich, Lew Hoad, Neal Fraser, Fred Stolle, Evonne Goolagong and Australia\\x92s last women\\x92s Australian Open champion, Christine O\\x92Neil.', 'Hampered by a shoulder injury, Reid served under-arm - UNDER-ARM - throughout the entire tournament yet still made the decider.', '\\x93I was always happy to work hard,\\x94 he said.', 'He had hoped the mercurial Nick Kyrgios would do the same.', 'A big fan and believer in the enigmatic Canberran, Reid didn\\x92t want to see Kyrgios\\x92s career slip away like his did.', '\\x93Full effort he wouldn\\x92t fail,\\x94 Reid said of Kyrgios.', '\\x93Full effort Nick could live out his tennis like a (Tomas) Berdych or (Jo- Wilfried) Tsonga, consistently making second week,quarters, semis, finals of slams - and then hopefully more.', '\\x93Time will tell for Nick, but he\\x92s still young.\\x94 Todd Reid was still young, too.', 'Tragically, his time ran out.']\n"
          ]
        }
      ]
    },
    {
      "cell_type": "code",
      "source": [
        "clean_sentences = pd.Series(sentences).str.replace(\"[^a-zA-Z]\", \" \")\n"
      ],
      "metadata": {
        "id": "diwWeDKEWayv"
      },
      "execution_count": 10,
      "outputs": []
    },
    {
      "cell_type": "code",
      "source": [
        "clean_sentences = [s.lower() for s in clean_sentences]\n",
        "clean_sentences"
      ],
      "metadata": {
        "colab": {
          "base_uri": "https://localhost:8080/"
        },
        "id": "DSsXUi6sWb8H",
        "outputId": "55b4a750-db77-42c5-e2a1-1fb5bb36fda2"
      },
      "execution_count": 11,
      "outputs": [
        {
          "output_type": "execute_result",
          "data": {
            "text/plain": [
              "['maria sharapova has basically no friends as tennis players on the wta tour.',\n",
              " \"the russian player has no problems in openly speaking about it and in a recent interview she said: 'i don't really hide any feelings too much.\",\n",
              " 'i think everyone knows this is my job here.',\n",
              " \"when i'm on the courts or when i'm on the court playing, i'm a competitor and i want to beat every single person whether they're in the locker room or across the net.\",\n",
              " \"so i'm not the one to strike up a conversation about the weather and know that in the next few minutes i have to go and try to win a tennis match.\",\n",
              " \"i'm a pretty competitive girl.\",\n",
              " \"i say my hellos, but i'm not sending any players flowers as well.\",\n",
              " \"uhm, i'm not really friendly or close to many players.\",\n",
              " \"i have not a lot of friends away from the courts.'\",\n",
              " 'when she said she is not really close to a lot of players, is that something strategic that she is doing?',\n",
              " \"is it different on the men's tour than the women's tour?\",\n",
              " \"'no, not at all.\",\n",
              " \"i think just because you're in the same sport doesn't mean that you have to be friends with everyone just because you're categorized, you're a tennis player, so you're going to get along with tennis players.\",\n",
              " 'i think every person has different interests.',\n",
              " \"i have friends that have completely different jobs and interests, and i've met them in very different parts of my life.\",\n",
              " \"i think everyone just thinks because we're tennis players we should be the greatest of friends.\",\n",
              " 'but ultimately tennis is just a very small part of what we do.',\n",
              " \"there are so many other things that we're interested in, that we do.'\",\n",
              " 'also read: maria sharapova reveals how tennis keeps her motivated.',\n",
              " 'basel, switzerland (ap) \\x97 roger federer advanced to the 14th swiss indoors final of his career by beating seventh-seeded daniil medvedev 6-1, 6-4 on saturday.',\n",
              " 'seeking a ninth title at his hometown event, and a 99th overall, federer will play 93th-ranked marius copil on sunday.',\n",
              " 'federer dominated the 20th-ranked medvedev and had his first match-point chance to break serve again at 5-1.',\n",
              " \"he then dropped his serve to love, and let another match point slip in medvedev's next service game by netting a backhand.\",\n",
              " 'he clinched on his fourth chance when medvedev netted from the baseline.',\n",
              " 'copil upset expectations of a federer final against alexander zverev in a 6-3, 6-7 (6), 6-4 win over the fifth-ranked german in the earlier semifinal.',\n",
              " 'the romanian aims for a first title after arriving at basel without a career win over a top-10 opponent.',\n",
              " 'copil has two after also beating no.',\n",
              " '6 marin cilic in the second round.',\n",
              " 'copil fired 26 aces past zverev and never dropped serve, clinching after 2 1/2 hours with a forehand volley winner to break zverev for the second time in the semifinal.',\n",
              " \"he came through two rounds of qualifying last weekend to reach the basel main draw, including beating zverev's older brother, mischa.\",\n",
              " 'federer had an easier time than in his only previous match against medvedev, a three-setter at shanghai two weeks ago.',\n",
              " 'roger federer has revealed that organisers of the re-launched and condensed davis cup gave him three days to decide if he would commit to the controversial competition.',\n",
              " 'speaking at the swiss indoors tournament where he will play in sunday\\x92s final against romanian qualifier marius copil, the world number three said that given the impossibly short time frame to make a decision, he opted out of any commitment.',\n",
              " '\\x93they only left me three days to decide,\\x94 federer said.',\n",
              " '\\x93i didn\\x92t to have time to consult with all the people i had to consult.',\n",
              " '\\x93i could not make a decision in that time, so i told them to do what they wanted.\\x94 the 20-time grand slam champion has voiced doubts about the wisdom of the one-week format to be introduced by organisers kosmos, who have promised the international tennis federation up to $3 billion in prize money over the next quarter-century.',\n",
              " 'the competition is set to feature 18 countries in the november 18-24 finals in madrid next year, and will replace the classic home-and-away ties played four times per year for decades.',\n",
              " 'kosmos is headed by barcelona footballer gerard pique, who is hoping fellow spaniard rafael nadal will play in the upcoming event.',\n",
              " 'novak djokovic has said he will give precedence to the atp\\x92s intended re-launch of the defunct world team cup in january 2020, at various australian venues.',\n",
              " 'major players feel that a big event in late november combined with one in january before the australian open will mean too much tennis and too little rest.',\n",
              " 'federer said earlier this month in shanghai in that his chances of playing the davis cup were all but non-existent.',\n",
              " '\\x93i highly doubt it, of course.',\n",
              " 'we\\x92ll see what happens,\\x94 he said.',\n",
              " '\\x93i don\\x92t think this was designed for me, anyhow.',\n",
              " 'this was designed for the future generation of players.\\x94 argentina and britain received wild cards to the new-look event, and will compete along with the four 2018 semi-finalists and the 12 teams who win qualifying rounds next february.',\n",
              " '\\x93i don\\x92t like being under that kind of pressure,\\x94 federer said of the deadline kosmos handed him.',\n",
              " 'kei nishikori will try to end his long losing streak in atp finals and kevin anderson will go for his second title of the year at the erste bank open on sunday.',\n",
              " 'the fifth-seeded nishikori reached his third final of 2018 after beating mikhail kukushkin of kazakhstan 6-4, 6-3 in the semifinals.',\n",
              " \"a winner of 11 atp events, nishikori hasn't triumphed since winning in memphis in february 2016.\",\n",
              " 'he has lost eight straight finals since.',\n",
              " 'the second-seeded anderson defeated fernando verdasco 6-3, 3-6, 6-4.',\n",
              " 'anderson has a shot at a fifth career title and second of the year after winning in new york in february.',\n",
              " 'nishikori leads anderson 4-2 on career matchups, but the south african won their only previous meeting this year.',\n",
              " 'with a victory on sunday, anderson will qualify for the atp finals.',\n",
              " 'currently in ninth place, nishikori with a win could move to within 125 points of the cut for the eight-man event in london next month.',\n",
              " 'nishikori held serve throughout against kukushkin, who came through qualifying.',\n",
              " 'he used his first break point to close out the first set before going up 3-0 in the second and wrapping up the win on his first match point.',\n",
              " 'against verdasco, anderson hit nine of his 19 aces in the opening set.',\n",
              " \"the spaniard broke anderson twice in the second but didn't get another chance on the south african's serve in the final set.\",\n",
              " 'federer, 37, first broke through on tour over two decades ago and he has since gone on to enjoy a glittering career.',\n",
              " 'the 20-time grand slam winner is chasing his 99th atp title at the swiss indoors this week and he faces jan-lennard struff in the second round on thursday (6pm bst).',\n",
              " 'davenport enjoyed most of her success in the late 1990s and her third and final major tournament win came at the 2000 australian open.',\n",
              " 'but she claims the mentality of professional tennis players slowly began to change after the new millennium.',\n",
              " '\\x93it seems pretty friendly right now,\\x94 said davenport.',\n",
              " '\\x93i think there is a really nice environment and a great atmosphere, especially between some of the veteran players helping some of the younger players out.',\n",
              " \"\\x93it's a very pleasant atmosphere, i'd have to say, around the locker rooms.\",\n",
              " '\\x93i felt like the best weeks that i had to get to know players when i was playing were the fed cup weeks or the olympic weeks, not necessarily during the tournaments.',\n",
              " '\\x93and even though maybe we had smaller teams, i still think we kept to ourselves quite a bit.',\n",
              " '\\x93not always, but i really feel like in the mid-2000 years there was a huge shift of the attitudes of the top players and being more friendly and being more giving, and a lot of that had to do with players like roger coming up.',\n",
              " \"\\x93i just felt like it really kind of changed where people were a little bit, definitely in the '90s, a lot more quiet, into themselves, and then it started to become better.\\x94 meanwhile, federer is hoping he can improve his service game as he hunts his ninth swiss indoors title this week.\",\n",
              " \"\\x93i didn't serve very well [against first-round opponent filip kranjovic,\\x94 federer said.\",\n",
              " '\\x93i think i was misfiring the corners, i was not hitting the lines enough.',\n",
              " \"\\x93clearly you make your life more difficult, but still i was up 6-2, 3-1, break points, so things could have ended very quickly today, even though i didn't have the best serve percentage stats.\",\n",
              " \"\\x93but maybe that's exactly what caught up to me eventually.\",\n",
              " \"it's just getting used to it.\",\n",
              " 'this is where the first rounds can be tricky.\\x94',\n",
              " 'nadal has not played tennis since he was forced to retire from the us open semi-finals against juan martin del porto with a knee injury.',\n",
              " 'the world no 1 has been forced to miss spain\\x92s davis cup clash with france and the asian hard court season.',\n",
              " 'but with the atp world tour finals due to begin next month, nadal is ready to prove his fitness before the season-ending event at the 02 arena.',\n",
              " 'nadal flew to paris on friday and footage from the paris masters official twitter account shows the spaniard smiling as he strides onto court for practice.',\n",
              " 'the paris masters draw has been made and nadal will start his campaign on tuesday or wednesday against either fernando verdasco or jeremy chardy.',\n",
              " 'nadal could then play defending champion jack sock in the third round before a potential quarter-final with either borna coric or dominic thiem.',\n",
              " 'nadal\\x92s appearance in paris is a big boost to the tournament organisers who could see roger federer withdraw.',\n",
              " 'federer is in action at the swiss indoors in basel and if he reaches the final, he could pull out of paris in a bid to stay fresh for london.',\n",
              " 'but as it stands, federer is in the draw and is scheduled to face either former world no 3 milos raonic or jo-wilfried tsonga in the second round.',\n",
              " 'federer\\x92s projected route to the paris final could also lead to matches against kevin anderson and novak djokovic.',\n",
              " 'djokovic could play marco cecchinato in the second round.',\n",
              " 'british no 1 kyle edmund is the 12th seed in paris and will get underway in round two against either karen khachanov or filip krajinovic.',\n",
              " 'tennis giveth, and tennis taketh away.',\n",
              " 'the end of the season is finally in sight, and with so many players defending\\x97or losing\\x97huge chunks of points in singapore, zhuhai and london, podcast co-hosts nina pantic and irina falconi discuss the art of defending points (02:14).',\n",
              " \"it's no secret that jack sock has struggled on the singles court this year (his record is 7-19).\",\n",
              " 'he could lose 1,400 points in the next few weeks\\x97but instead of focusing on the negative, it can all be about perspective (06:28).',\n",
              " \"let's also not forget his two grand slam doubles triumphs this season.\",\n",
              " 'two players, stefanos tsitsipas and kyle edmund, won their first career atp titles last week (13:26).',\n",
              " \"it's a big deal because...you never forget your first.\",\n",
              " 'irina looks back at her wta title win in bogota in 2016, and tells an unforgettable story about her semifinal drama (14:04).',\n",
              " 'in singapore, one of the biggest storylines (aside from the matches, of course) has been the on-court coaching debate.',\n",
              " 'nina and irina give their opinions on what coaching should look like in the future, on both tours (18:55).',\n",
              " 'i played golf last week with todd reid.',\n",
              " 'he picked me up at 5.30am, half an hour early because he couldn\\x92t sleep.',\n",
              " 'or hadn\\x92t slept, to be specific.',\n",
              " 'not because he\\x92d been out on a bender or anything \\x97 those days were in the past.',\n",
              " 'the former wimbledon junior champion was full of hope, excited about getting his life back together after a troubled few years and a touch-and-go battle with pancreatitis.',\n",
              " '\\x93i\\x92m pleased with that,\\x94 he said after grinding out an eight-over-par front nine at the not-so-royal northbridge club in sydney and smashing down an egg- and-bacon roll at the halfway house.',\n",
              " 'to most players of his rare sporting gifts, such a modest return would be unacceptable.',\n",
              " 'to reid the 15-marker, just being up and at \\x91em was enough; a few bogeys and one well-made par \\x97 broomstick putter and all \\x97 vindication for his recent decision to renew his membership at nearby bankstown.',\n",
              " 'exhausted after spending half his round deep in the bushes searching for my ball, as well as those of two other golfers he\\x92d never met before, our incredibly giving designated driver asked if we didn\\x92t mind going straight home after signing off so he could rest up a little before heading to work.',\n",
              " 'fourteen years after sharing centre court with roger federer in the third round of the australian open, reid was now running the counter and coaching kids - but sadly now never mine- in suburban sydney at the matraville tennis and squash centre run by his father bob and beautiful mother sandra, herselfa former professional.',\n",
              " 'quite the fall from grace for a prodigious talent once afforded a 3000-word spread in the new york times.',\n",
              " 'with sponsors and the world at his feet, reid was 14 then and being mentored by nick bollettieri, who fashioned the likes of andre agassi, maria sharapova, monica seles and jim courier into world no.1s.',\n",
              " 'reid, too, was earmarked for the very top, only for injuries and illness to cruel his career.',\n",
              " 'on the up again after taking salvation in the bottle, reid was found dead on tuesday aged just 34.',\n",
              " '\\x93i never got over what happened to me when i was 19,\\x94 he told aap last week.',\n",
              " 'just as his senior career got legs, reid was derailed by a debilitating bout of glandular fever.',\n",
              " 'the life-changing setback hit only weeks after the then-teenage wonder boy announced his arrival as a grand slam threat by throwing up all over rod laver arena during a fighting five-set second-round win over sargis sargsian.',\n",
              " 'the epic victory set-up his showdown with federer, who would go on to win his first australian open.',\n",
              " '\\x93i was their golden boy then,\\x94 he said of his relationship with tennis australia.',\n",
              " '\\x93now they won\\x92t even give me tickets (to the open).\\x94 a davis cup pick and on the cusp of the world\\x92s 100 by 18, reid had few other complaints - just a lingering sense of what might have been.',\n",
              " 'he\\x92d backed up his last-32 showingat melbourne park with a string of wins over elites including french open champion and then world no.9 gaston gaudio and roland garros runner-up martin verkerk in 2004 before illness struck.',\n",
              " '\\x93i was on a nice trajectorythen,\\x94 reid recalled.\\x93if i hadn\\x92t got sick, i think i could have started pushing towards the second week at the slams and then who knows.\\x94 duringa comeback attempt some five years later, reid added bernard tomic and 2018 us open federer slayer john millman to his list of career scalps.',\n",
              " '\\x93he had one of the best backhands, i think, going around,\\x94 millman told aap.',\n",
              " '\\x93but my fondest memory is probably him coming back in spain with his father and todd trying to order a ham, cheese and tomato sandwich in the most aussie english i ever heard.\\x94 among his lesser known achievements - but even more significantto me - was an injured reid\\x92s effort to reach the final of the manly seaside, a prestigious christmas-time event won backin the day by the likes of legends rod laver, ken rosewall, frank sedgman, john bromwich, lew hoad, neal fraser, fred stolle, evonne goolagong and australia\\x92s last women\\x92s australian open champion, christine o\\x92neil.',\n",
              " 'hampered by a shoulder injury, reid served under-arm - under-arm - throughout the entire tournament yet still made the decider.',\n",
              " '\\x93i was always happy to work hard,\\x94 he said.',\n",
              " 'he had hoped the mercurial nick kyrgios would do the same.',\n",
              " 'a big fan and believer in the enigmatic canberran, reid didn\\x92t want to see kyrgios\\x92s career slip away like his did.',\n",
              " '\\x93full effort he wouldn\\x92t fail,\\x94 reid said of kyrgios.',\n",
              " '\\x93full effort nick could live out his tennis like a (tomas) berdych or (jo- wilfried) tsonga, consistently making second week,quarters, semis, finals of slams - and then hopefully more.',\n",
              " '\\x93time will tell for nick, but he\\x92s still young.\\x94 todd reid was still young, too.',\n",
              " 'tragically, his time ran out.']"
            ]
          },
          "metadata": {},
          "execution_count": 11
        }
      ]
    },
    {
      "cell_type": "code",
      "source": [
        "from sklearn.feature_extraction.text import TfidfVectorizer\n",
        "# Initialize the TF-IDF Vectorizer with stop words\n",
        "tfidf_vectorizer = TfidfVectorizer(stop_words='english')\n",
        "\n",
        "# Fit and transform the text data\n",
        "vector_sentence = tfidf_vectorizer.fit_transform(sentences)"
      ],
      "metadata": {
        "id": "WKrHR5MxXKvj"
      },
      "execution_count": 13,
      "outputs": []
    },
    {
      "cell_type": "code",
      "source": [
        "# Convert the sparse matrix to a dense matrix (optional)\n",
        "dense_matrix = vector_sentence.toarray()\n",
        "\n",
        "# Display the TF-IDF matrix\n",
        "print(dense_matrix)"
      ],
      "metadata": {
        "colab": {
          "base_uri": "https://localhost:8080/"
        },
        "id": "qgTSx40nZY-q",
        "outputId": "276fcd39-b1c9-42df-8db4-04231cccb733"
      },
      "execution_count": 19,
      "outputs": [
        {
          "output_type": "stream",
          "name": "stdout",
          "text": [
            "[[0. 0. 0. ... 0. 0. 0.]\n",
            " [0. 0. 0. ... 0. 0. 0.]\n",
            " [0. 0. 0. ... 0. 0. 0.]\n",
            " ...\n",
            " [0. 0. 0. ... 0. 0. 0.]\n",
            " [0. 0. 0. ... 0. 0. 0.]\n",
            " [0. 0. 0. ... 0. 0. 0.]]\n"
          ]
        }
      ]
    },
    {
      "cell_type": "code",
      "source": [
        "from sklearn.metrics.pairwise import cosine_similarity\n",
        "\n",
        "# Compute cosine similarity between all sentence pairs\n",
        "cosine_sim_matrix = cosine_similarity(dense_matrix)\n",
        "\n",
        "# Display the similarity matrix\n",
        "print(cosine_sim_matrix)\n"
      ],
      "metadata": {
        "colab": {
          "base_uri": "https://localhost:8080/"
        },
        "id": "UBbV66azacys",
        "outputId": "770b54f3-ef55-436d-bc89-653684558a53"
      },
      "execution_count": 20,
      "outputs": [
        {
          "output_type": "stream",
          "name": "stdout",
          "text": [
            "[[1.         0.         0.         ... 0.04134813 0.         0.        ]\n",
            " [0.         1.         0.         ... 0.         0.         0.        ]\n",
            " [0.         0.         1.         ... 0.         0.         0.        ]\n",
            " ...\n",
            " [0.04134813 0.         0.         ... 1.         0.06450157 0.        ]\n",
            " [0.         0.         0.         ... 0.06450157 1.         0.11199104]\n",
            " [0.         0.         0.         ... 0.         0.11199104 1.        ]]\n"
          ]
        }
      ]
    },
    {
      "cell_type": "code",
      "source": [
        "# Here, we select the sentences with the highest cosine similarity scores to the first sentence\n",
        "summary_indices = np.argsort(cosine_sim_matrix[0])[-2:]  # Top 2 sentences\n",
        "\n",
        "# Print the summary\n",
        "summary = [sentences[i] for i in summary_indices]\n",
        "print(\"Extractive Summary:\", summary)\n"
      ],
      "metadata": {
        "colab": {
          "base_uri": "https://localhost:8080/"
        },
        "id": "FMDJ6PjPbghh",
        "outputId": "ba4ae8f9-9186-4397-ace0-7e7241ec0025"
      },
      "execution_count": 21,
      "outputs": [
        {
          "output_type": "stream",
          "name": "stdout",
          "text": [
            "Extractive Summary: ['ALSO READ: Maria Sharapova reveals how tennis keeps her motivated.', 'Maria Sharapova has basically no friends as tennis players on the WTA Tour.']\n"
          ]
        }
      ]
    }
  ]
}